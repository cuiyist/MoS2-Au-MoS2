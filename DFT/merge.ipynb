{
 "cells": [
  {
   "cell_type": "code",
   "execution_count": 4,
   "metadata": {},
   "outputs": [],
   "source": [
    "import numpy as np\n",
    "import os\n",
    "\n",
    "from ase.io import read, write\n",
    "\n",
    "#-------------------------------------------------------------------\n",
    "\n",
    "path = \"/Users/yicui/Desktop/Stanford PhD Project/MoS2-Au-MoS2 Moire/energy calculation/Nov. 5\"\n",
    "os.chdir(path)\n",
    "\n",
    "bottom_layer = read(\"moire_supercell_8-4_bottom.cif\")\n",
    "cell = bottom_layer.get_cell()[:]\n",
    "cell[2][2] = 28.\n",
    "bottom_layer.set_cell(cell)\n",
    "\n",
    "top_layer = read(\"3DAu.xyz\")\n",
    "'''\n",
    "for atom in top_layer:\n",
    "    bottom_layer.append(atom)\n",
    "'''\n",
    "bottom_layer_frac_coords = bottom_layer.get_scaled_positions()\n",
    "top_layer_frac_coords = top_layer.get_scaled_positions()\n",
    "\n",
    "#bottom_layer_frac_coords += np.array([0.5-0.50877, 0.5-0.56140, 0.])\n",
    "#top_layer_frac_coords += np.array([0.5-0.43860, 0.5-0.49123, 0.])\n",
    "top_layer_frac_coords += np.array([-2., 3., 0.])\n",
    "\n",
    "bottom_layer.set_scaled_positions(bottom_layer_frac_coords)\n",
    "top_layer.set_scaled_positions(top_layer_frac_coords)\n",
    "'''\n",
    "#center Au layer\n",
    "center_Au_scaled_pos = top_layer.get_scaled_positions()[-31]\n",
    "shift = np.array([0.5, 0.5, center_Au_scaled_pos[-1]]) - center_Au_scaled_pos\n",
    "\n",
    "scaled_pos = top_layer.get_scaled_positions()\n",
    "symbols = top_layer.get_chemical_symbols()\n",
    "\n",
    "for i, symbol in enumerate(symbols):\n",
    "    if symbol == \"Au\":\n",
    "        scaled_pos[i] += shift\n",
    "\n",
    "top_layer.set_scaled_positions(scaled_pos)\n",
    "'''\n",
    "bottom_layer.translate([0.9211, 0.,0.])\n",
    "top_layer.translate([-0.2213, 0.5029, -14.7852])\n",
    "\n",
    "bottom_layer.extend(top_layer)\n",
    "\n",
    "write(\"moire_supercell.cif\", bottom_layer)"
   ]
  },
  {
   "cell_type": "code",
   "execution_count": null,
   "metadata": {},
   "outputs": [],
   "source": []
  },
  {
   "cell_type": "code",
   "execution_count": null,
   "metadata": {},
   "outputs": [],
   "source": []
  }
 ],
 "metadata": {
  "kernelspec": {
   "display_name": "Python 3",
   "language": "python",
   "name": "python3"
  },
  "language_info": {
   "codemirror_mode": {
    "name": "ipython",
    "version": 3
   },
   "file_extension": ".py",
   "mimetype": "text/x-python",
   "name": "python",
   "nbconvert_exporter": "python",
   "pygments_lexer": "ipython3",
   "version": "3.8.5"
  }
 },
 "nbformat": 4,
 "nbformat_minor": 4
}
