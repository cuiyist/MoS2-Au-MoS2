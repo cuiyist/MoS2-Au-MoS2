{
 "cells": [
  {
   "cell_type": "code",
   "execution_count": 14,
   "metadata": {},
   "outputs": [
    {
     "data": {
      "text/plain": [
       "'\\nfor angle in range(7):\\n\\n    theta = angle + 30. + 13.17362/2\\n\\n    Au_coords_new = rotate(Au_coords, axis=np.array([0., 0., 1.]), theta=(-theta/180.)*np.pi)\\n    Au_coords_new += shift_vec\\n\\n\\n    for i, i_ind in enumerate(Au_indices):\\n    \\n        coords[i_ind] = Au_coords_new[i]\\n    \\t\\n    bilayer.set_positions(coords)\\n\\n\\n    write(\"moire_supercell_10-5_rotated_{}.cif\".format(angle), bilayer)\\n'"
      ]
     },
     "execution_count": 14,
     "metadata": {},
     "output_type": "execute_result"
    }
   ],
   "source": [
    "import numpy as np\n",
    "import os\n",
    "\n",
    "from ase.io import read, write\n",
    "\n",
    "\"\"\"\n",
    "Rotate the gold layer by a certain angle\n",
    "\"\"\"\n",
    "\n",
    "def rotation_matrix(axis, theta):\n",
    "\n",
    "    axis = axis/np.sqrt(np.dot(axis, axis))\n",
    "    a = np.cos(theta/2.)\n",
    "    b, c, d = -axis*np.sin(theta/2.)\n",
    "\n",
    "    R = np.array([[a*a+b*b-c*c-d*d, 2*(b*c-a*d), 2*(b*d+a*c)],\n",
    "                  [2*(b*c+a*d), a*a+c*c-b*b-d*d, 2*(c*d-a*b)],\n",
    "                  [2*(b*d-a*c), 2*(c*d+a*b), a*a+d*d-b*b-c*c]])\n",
    "\n",
    "    return R\n",
    "\n",
    "\n",
    "def rotate(coords, axis, theta):\n",
    "\n",
    "\tR = rotation_matrix(axis, theta)\n",
    "\n",
    "\tcoords_new = np.dot(R, coords.T).T\n",
    "\n",
    "\treturn coords_new\n",
    "\n",
    "\n",
    "path = \"/Users/yicui/Desktop/Stanford PhD Project/MoS2-Au-MoS2 Moire/energy calculation/Nov. 5/MoS2-3DAu\"\n",
    "os.chdir(path)\n",
    "\n",
    "\n",
    "# bottom_layer = read(\"moire_supercell_2-3_bottom.cif\")\n",
    "# top_layer = read(\"moire_supercell_2-3_top.cif\")\n",
    "# gold_layer = read(\"Au_111_3x3x3.xyz\")\n",
    "\n",
    "bilayer = read(\"moire_supercell_MoS2-3DAu_30.cif\")\n",
    "\n",
    "\n",
    "symbols = bilayer.get_chemical_symbols()\n",
    "Au_indices = [i for i, symbol in enumerate(symbols) if symbol == \"Au\"]\n",
    "\n",
    "coords = bilayer.get_positions()\n",
    "Au_coords = coords[Au_indices]\n",
    "\n",
    "#print(Au_coords)\n",
    "\n",
    "####################################################\n",
    "\n",
    "shift_vec = np.array([11.05160, 11.16610, 0.])\n",
    "Au_coords -= shift_vec\n",
    "\n",
    "Au_coords_new = rotate(Au_coords, axis=np.array([0., 0., 1.]), theta=(38/180.)*np.pi)\n",
    "Au_coords_new += shift_vec\n",
    "\n",
    "for i, i_ind in enumerate(Au_indices):\n",
    "    coords[i_ind] = Au_coords_new[i]\n",
    "    \n",
    "bilayer.set_positions(coords)\n",
    "\n",
    "write(\"moire_supercell_MoS2-3DAu_.cif\", bilayer)\n",
    "\n",
    "\"\"\"\n",
    "for angle in range(7):\n",
    "\n",
    "    theta = angle + 30. + 13.17362/2\n",
    "\n",
    "    Au_coords_new = rotate(Au_coords, axis=np.array([0., 0., 1.]), theta=(-theta/180.)*np.pi)\n",
    "    Au_coords_new += shift_vec\n",
    "\n",
    "\n",
    "    for i, i_ind in enumerate(Au_indices):\n",
    "    \n",
    "        coords[i_ind] = Au_coords_new[i]\n",
    "    \t\n",
    "    bilayer.set_positions(coords)\n",
    "\n",
    "\n",
    "    write(\"moire_supercell_10-5_rotated_{}.cif\".format(angle), bilayer)\n",
    "\"\"\"\n"
   ]
  },
  {
   "cell_type": "code",
   "execution_count": null,
   "metadata": {},
   "outputs": [],
   "source": []
  }
 ],
 "metadata": {
  "kernelspec": {
   "display_name": "Python 3",
   "language": "python",
   "name": "python3"
  },
  "language_info": {
   "codemirror_mode": {
    "name": "ipython",
    "version": 3
   },
   "file_extension": ".py",
   "mimetype": "text/x-python",
   "name": "python",
   "nbconvert_exporter": "python",
   "pygments_lexer": "ipython3",
   "version": "3.8.5"
  }
 },
 "nbformat": 4,
 "nbformat_minor": 4
}
